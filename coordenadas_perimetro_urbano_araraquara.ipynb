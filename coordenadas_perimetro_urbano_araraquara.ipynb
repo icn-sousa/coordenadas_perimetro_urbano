{
 "cells": [
  {
   "cell_type": "code",
   "execution_count": null,
   "metadata": {
    "id": "HtnkF33fzsFs"
   },
   "outputs": [],
   "source": [
    "import re\n",
    "import pandas as pd\n",
    "from watermark import watermark\n",
    "\n",
    "%load_ext watermark"
   ]
  },
  {
   "cell_type": "code",
   "execution_count": null,
   "metadata": {},
   "outputs": [],
   "source": [
    "%watermark --iversions"
   ]
  },
  {
   "cell_type": "code",
   "execution_count": null,
   "metadata": {},
   "outputs": [],
   "source": [
    "print(watermark())"
   ]
  },
  {
   "cell_type": "code",
   "execution_count": null,
   "metadata": {
    "id": "sevxYQSE4A90",
    "scrolled": true
   },
   "outputs": [],
   "source": [
    "# Define o caminho do arquivo\n",
    "filepath = 'perimetro_urbano.txt'\n",
    "\n",
    "# Inicializa uma string vazia para armazenar o texto do arquivo\n",
    "text = ''\n",
    "\n",
    "# Abre o arquivo e lê seu conteúdo\n",
    "with open(filepath, encoding='utf-8') as perimeter:\n",
    "  # Itera sobre cada linha do arquivo\n",
    "  for line in perimeter:\n",
    "    # Remove quaisquer caracteres de nova linha e atualiza a variável de texto\n",
    "    line = line.replace('\\n', '')\n",
    "    text = line\n",
    "\n",
    "# Define expressões regulares para extrair coordenadas leste e norte\n",
    "pattern_E = r'E:([^m]*)m'\n",
    "pattern_N = r'N:([^m]*)m'\n",
    "\n",
    "# Encontra todas as correspondências de coordenadas no texto\n",
    "matches_E = re.findall(pattern_E, text)\n",
    "matches_N = re.findall(pattern_N, text)\n",
    "\n",
    "# Inicializa um dicionário vazio para armazenar os valores das coordenadas\n",
    "coords = {}\n",
    "\n",
    "# Adiciona uma chave para os valores de coordenada leste e adiciona cada correspondência à lista\n",
    "coords['E'] = []\n",
    "for match_E in matches_E:\n",
    "  coords['E'].append(match_E)\n",
    "\n",
    "# Adiciona uma chave para os valores de coordenada norte e adiciona cada correspondência à lista\n",
    "coords['N'] = []\n",
    "for match_N in matches_N:\n",
    "  coords['N'].append(match_N)\n",
    "\n",
    "# Remove quaisquer espaços extra dos valores\n",
    "directions = ['E', 'N']\n",
    "for direction in directions:\n",
    "  coords[direction] = [coord.strip() for coord in coords[direction]]\n",
    "\n",
    "# Converte o dicionário em um DataFrame\n",
    "coords_df = pd.DataFrame(coords)\n",
    "\n",
    "# Remove aspas e pontos e substitui a vírgula por um ponto\n",
    "for direction in directions:\n",
    "  coords_df[direction] = coords_df[direction].str.replace('\"', '').str.replace('.', '').str.replace(',', '.')\n",
    "\n",
    "# Identifica coordenada com formato incorreto (tamanho diferente de N)\n",
    "idx_N_incorreta = coords_df[coords_df['N'].str.len() < 11].index\n",
    "\n",
    "# Exibe linha com coordenadas N incorreta\n",
    "linha_N_incorreta = coords_df.iloc[idx_N_incorreta]\n",
    "print('Coordenada incorreta:')\n",
    "print(linha_N_incorreta)\n",
    "\n",
    "# Remove linha com coordenada N incorreta\n",
    "coords_df.drop([idx_N_incorreta[0]], axis=0, inplace=True)\n",
    "\n",
    "# Salva o DataFrame como arquivo CSV\n",
    "coords_df.to_csv('coordenadas_perimetro_urbano_araraquara.csv', index=False)\n"
   ]
  }
 ],
 "metadata": {
  "colab": {
   "provenance": [],
   "toc_visible": true
  },
  "kernelspec": {
   "display_name": "Python 3 (ipykernel)",
   "language": "python",
   "name": "python3"
  },
  "language_info": {
   "codemirror_mode": {
    "name": "ipython",
    "version": 3
   },
   "file_extension": ".py",
   "mimetype": "text/x-python",
   "name": "python",
   "nbconvert_exporter": "python",
   "pygments_lexer": "ipython3",
   "version": "3.11.10"
  }
 },
 "nbformat": 4,
 "nbformat_minor": 4
}
